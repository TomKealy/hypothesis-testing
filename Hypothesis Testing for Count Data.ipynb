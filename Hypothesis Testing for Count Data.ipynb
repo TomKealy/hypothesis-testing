{
 "cells": [
  {
   "cell_type": "markdown",
   "metadata": {},
   "source": [
    "# Hypothesis Testing for Count Data\n",
    "\n",
    "## Count Data\n",
    "\n",
    "### Poisson Distribution\n",
    "\n",
    "### Negative Binomial Distribution\n",
    "\n",
    "## Hypothesis Testing\n",
    "\n",
    "### t-test\n",
    "\n",
    "### Mann Whitney U Test\n",
    "\n",
    "### ANOVA"
   ]
  }
 ],
 "metadata": {
  "kernelspec": {
   "display_name": "Python 3",
   "language": "python",
   "name": "python3"
  },
  "language_info": {
   "codemirror_mode": {
    "name": "ipython",
    "version": 3
   },
   "file_extension": ".py",
   "mimetype": "text/x-python",
   "name": "python",
   "nbconvert_exporter": "python",
   "pygments_lexer": "ipython3",
   "version": "3.7.3"
  }
 },
 "nbformat": 4,
 "nbformat_minor": 4
}
